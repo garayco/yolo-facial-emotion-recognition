{
 "cells": [
  {
   "cell_type": "markdown",
   "id": "7e62d1df",
   "metadata": {},
   "source": [
    "## 🧰 Initial Settings"
   ]
  },
  {
   "cell_type": "markdown",
   "id": "97f547dc",
   "metadata": {},
   "source": [
    "### 📦 Import Standard Libraries"
   ]
  },
  {
   "cell_type": "code",
   "execution_count": 10,
   "id": "ccd99708",
   "metadata": {},
   "outputs": [],
   "source": [
    "import os, glob, shutil, random"
   ]
  },
  {
   "cell_type": "markdown",
   "id": "38094085",
   "metadata": {},
   "source": [
    "### 📥 Download Dataset from Kaggle"
   ]
  },
  {
   "cell_type": "code",
   "execution_count": 2,
   "id": "de671826",
   "metadata": {},
   "outputs": [
    {
     "name": "stdout",
     "output_type": "stream",
     "text": [
      "Dataset URL: https://www.kaggle.com/datasets/hhshamimkhan/face-emotion-datasets\n"
     ]
    }
   ],
   "source": [
    "from kaggle.api.kaggle_api_extended import KaggleApi\n",
    "\n",
    "os.environ[\"KAGGLE_CONFIG_DIR\"] = os.getcwd()\n",
    "\n",
    "api = KaggleApi()\n",
    "api.authenticate()\n",
    "\n",
    "DATASET_SLUG = \"hhshamimkhan/face-emotion-datasets\"\n",
    "api.dataset_download_files(DATASET_SLUG, unzip=True)"
   ]
  },
  {
   "cell_type": "markdown",
   "id": "aa2c0974",
   "metadata": {},
   "source": [
    "## 🛠️ Dataset Preparation for YOLO"
   ]
  },
  {
   "cell_type": "markdown",
   "id": "e551f777",
   "metadata": {},
   "source": [
    "### ⚙️ Dataset Paths, Split Ratios, and Configuration Settings"
   ]
  },
  {
   "cell_type": "code",
   "execution_count": 3,
   "id": "a4ed4a7c",
   "metadata": {},
   "outputs": [],
   "source": [
    "SRC_ROOT = \"Face emotion datasets\"\n",
    "OUT_ROOT = \"dataset_yolo\"\n",
    "R_TRAIN, R_VAL = 0.70, 0.15\n",
    "SEED = 42\n",
    "VALID_EXT = (\".jpg\", \".jpeg\", \".png\", \".bmp\", \".webp\")\n",
    "\n",
    "random.seed(SEED)"
   ]
  },
  {
   "cell_type": "markdown",
   "id": "f7aba36f",
   "metadata": {},
   "source": [
    "### 🔎 Discover Classes and Assign IDs"
   ]
  },
  {
   "cell_type": "code",
   "execution_count": 4,
   "id": "69c99196",
   "metadata": {},
   "outputs": [
    {
     "name": "stdout",
     "output_type": "stream",
     "text": [
      "Clases -> IDs:\n"
     ]
    },
    {
     "data": {
      "text/plain": [
       "{'Anger': 0,\n",
       " 'Content': 1,\n",
       " 'Disgust': 2,\n",
       " 'Fear': 3,\n",
       " 'Happy': 4,\n",
       " 'Neutral': 5,\n",
       " 'Sad': 6,\n",
       " 'SillyFace': 7,\n",
       " 'Surprise': 8}"
      ]
     },
     "execution_count": 4,
     "metadata": {},
     "output_type": "execute_result"
    }
   ],
   "source": [
    "# 1) Descubrir clases (orden alfabético estable)\n",
    "classes = sorted(\n",
    "    [d for d in os.listdir(SRC_ROOT) if os.path.isdir(os.path.join(SRC_ROOT, d))]\n",
    ")\n",
    "name2id = {c: i for i, c in enumerate(classes)}\n",
    "print(\"Clases -> IDs:\")\n",
    "name2id"
   ]
  },
  {
   "cell_type": "markdown",
   "id": "29ba7c37",
   "metadata": {},
   "source": [
    "### 🗂️ Split Dataset into Train/Val/Test and Generate YOLO Labels"
   ]
  },
  {
   "cell_type": "code",
   "execution_count": 5,
   "id": "7bd1ddcc",
   "metadata": {},
   "outputs": [],
   "source": [
    "for s in [\"train\", \"val\", \"test\"]:\n",
    "    os.makedirs(os.path.join(OUT_ROOT, \"images\", s), exist_ok=True)\n",
    "    os.makedirs(os.path.join(OUT_ROOT, \"labels\", s), exist_ok=True)\n",
    "\n",
    "for cls in classes:\n",
    "    imgs = [\n",
    "        p\n",
    "        for p in glob.glob(os.path.join(SRC_ROOT, cls, \"*\"))\n",
    "        if p.lower().endswith(VALID_EXT)\n",
    "    ]\n",
    "\n",
    "    random.shuffle(imgs)\n",
    "\n",
    "    n = len(imgs)\n",
    "    n_tr = int(n * R_TRAIN)\n",
    "    n_va = int(n * R_VAL)\n",
    "    n_te = n - n_tr - n_va\n",
    "\n",
    "    splits = [\n",
    "        (\"train\", imgs[:n_tr]),\n",
    "        (\"val\", imgs[n_tr : n_tr + n_va]),\n",
    "        (\"test\", imgs[n_tr + n_va :]),\n",
    "    ]\n",
    "\n",
    "    for split, items in splits:\n",
    "        for src_img in items:\n",
    "\n",
    "            fn = os.path.basename(src_img)\n",
    "            shutil.copy2(src_img, os.path.join(OUT_ROOT, \"images\", split, fn))\n",
    "\n",
    "            with open(\n",
    "                os.path.join(\n",
    "                    OUT_ROOT, \"labels\", split, os.path.splitext(fn)[0] + \".txt\"\n",
    "                ),\n",
    "                \"w\",\n",
    "            ) as f:\n",
    "                f.write(f\"{name2id[cls]} 0.5 0.5 1.0 1.0\\n\")"
   ]
  },
  {
   "cell_type": "markdown",
   "id": "363ffeb0",
   "metadata": {},
   "source": [
    "### 📄 Create YOLO Configuration File (data.yaml)"
   ]
  },
  {
   "cell_type": "code",
   "execution_count": 6,
   "id": "3fd568ae",
   "metadata": {},
   "outputs": [],
   "source": [
    "with open(os.path.join(OUT_ROOT, \"data.yaml\"), \"w\", encoding=\"utf-8\") as f:\n",
    "    f.write(\n",
    "        f\"path: {OUT_ROOT}\\ntrain: images/train\\nval: images/val\\n\"\n",
    "        f\"test: images/test\\nnames: [{', '.join(classes)}]\\n\"\n",
    "    )"
   ]
  },
  {
   "cell_type": "code",
   "execution_count": 7,
   "id": "e399ee64",
   "metadata": {},
   "outputs": [
    {
     "name": "stdout",
     "output_type": "stream",
     "text": [
      "\u001b[KDownloading https://github.com/ultralytics/assets/releases/download/v8.3.0/yolov8n.pt to 'yolov8n.pt': 100% ━━━━━━━━━━━━ 6.2MB 17.0MB/s 0.4s.3s<0.1s\n"
     ]
    }
   ],
   "source": [
    "from ultralytics import YOLO\n",
    "\n",
    "model = YOLO(\"yolov8n.pt\")"
   ]
  }
 ],
 "metadata": {
  "kernelspec": {
   "display_name": ".venv",
   "language": "python",
   "name": "python3"
  },
  "language_info": {
   "codemirror_mode": {
    "name": "ipython",
    "version": 3
   },
   "file_extension": ".py",
   "mimetype": "text/x-python",
   "name": "python",
   "nbconvert_exporter": "python",
   "pygments_lexer": "ipython3",
   "version": "3.12.3"
  }
 },
 "nbformat": 4,
 "nbformat_minor": 5
}
